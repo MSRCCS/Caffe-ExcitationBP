{
 "cells": [
  {
   "cell_type": "code",
   "execution_count": null,
   "metadata": {
    "collapsed": false
   },
   "outputs": [],
   "source": [
    "import numpy as np\n",
    "import sys\n",
    "import os\n",
    "from os import path\n",
    "import argparse\n",
    "import math\n",
    "sys.path.insert(0, \"/home/hongzl/works/caffe/python/\")\n",
    "import caffe\n",
    "\n",
    "def ConvertToFullConvNet():\n",
    "    net0 = \"VGG_ILSVRC_16_layers_deploy.prototxt\"\n",
    "    model0 = \"VGG_ILSVRC_16_layers.caffemodel\"\n",
    "    net1 = \"VGG_ILSVRC_16_layers_deploy_bp.prototxt\"\n",
    "    model1 = \"VGG_ILSVRC_16_layers_bp.caffemodel\"\n",
    "    model0_copy = \"VGG_ILSVRC_16_layers_copy.caffemodel\"\n",
    "    # Load the original network and extract the fully connected layers' parameters.\n",
    "    net = caffe.Net(net0, model0, caffe.TEST)\n",
    "    \n",
    "    params = net.params.keys()[-3:]\n",
    "    print 'layers that will be converted: {}'.format(params)\n",
    "    # fc_params = {name: (weights, biases)}\n",
    "    fc_params = {pr: (net.params[pr][0].data, net.params[pr][1].data) for pr in params}\n",
    "\n",
    "    for fc in params:\n",
    "        print '{} weights are {} dimensional and biases are {} dimensional'.format(fc, fc_params[fc][0].shape, fc_params[fc][1].shape)\n",
    "\n",
    "    # Load the fully convolutional network to transplant the parameters.\n",
    "    net_full_conv = caffe.Net(net1, model0, caffe.TEST)\n",
    "    params_full_conv = net_full_conv.params.keys()[-3:]\n",
    "    # conv_params = {name: (weights, biases)}\n",
    "    conv_params = {pr: (net_full_conv.params[pr][0].data, net_full_conv.params[pr][1].data) for pr in params_full_conv}\n",
    "\n",
    "    for conv in params_full_conv:\n",
    "        print '{} weights are {} dimensional and biases are {} dimensional'.format(conv, conv_params[conv][0].shape, conv_params[conv][1].shape)\n",
    "\n",
    "    for pr, pr_conv in zip(params, params_full_conv):\n",
    "        conv_params[pr_conv][0].flat = fc_params[pr][0].flat  # flat unrolls the arrays\n",
    "        conv_params[pr_conv][1][...] = fc_params[pr][1]\n",
    "\n",
    "    net_full_conv.save(model1)\n",
    "    net.save(model0_copy)\n",
    "\n",
    "ConvertToFullConvNet()"
   ]
  }
 ],
 "metadata": {
  "kernelspec": {
   "display_name": "Python 2",
   "language": "python",
   "name": "python2"
  },
  "language_info": {
   "codemirror_mode": {
    "name": "ipython",
    "version": 2
   },
   "file_extension": ".py",
   "mimetype": "text/x-python",
   "name": "python",
   "nbconvert_exporter": "python",
   "pygments_lexer": "ipython2",
   "version": "2.7.6"
  }
 },
 "nbformat": 4,
 "nbformat_minor": 1
}
