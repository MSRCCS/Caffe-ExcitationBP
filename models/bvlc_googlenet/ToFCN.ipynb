{
 "cells": [
  {
   "cell_type": "code",
   "execution_count": 1,
   "metadata": {
    "collapsed": false
   },
   "outputs": [
    {
     "name": "stdout",
     "output_type": "stream",
     "text": [
      "layers that will be converted: ['loss3/classifier']\n",
      "loss3/classifier weights are (1000, 1024) dimensional and biases are (1000,) dimensional\n",
      "loss3/classifier_bp weights are (1000, 1024, 1, 1) dimensional and biases are (1000,) dimensional\n"
     ]
    }
   ],
   "source": [
    "import numpy as np\n",
    "import sys\n",
    "import os\n",
    "from os import path\n",
    "import argparse\n",
    "import math\n",
    "\n",
    "caffe_root = '../../'  # this file is expected to be in {caffe_root}/examples\n",
    "sys.path.insert(0, caffe_root + 'python')\n",
    "import caffe\n",
    "\n",
    "orgmodel = 'bvlc_googlenet.caffemodel'\n",
    "orgnet = 'deploy.prototxt'\n",
    "\n",
    "dstmodel = 'bvlc_googlenet_bp.caffemodel'\n",
    "dstnet = 'deploy_bp.prototxt'\n",
    "\n",
    "orgmodel2 = 'bvlc_googlenet_copy.caffemodel'\n",
    "\n",
    "\n",
    "if True:\n",
    "    \n",
    "    \n",
    "    # Load the original network and extract the fully connected layers' parameters.\n",
    "    \n",
    "    net = caffe.Net(orgnet, orgmodel, caffe.TEST)\n",
    "    net.save(orgmodel2)\n",
    "    params = net.params.keys()[-1:]\n",
    "    print 'layers that will be converted: {}'.format(params)\n",
    "    \n",
    "    fc_params = {pr: (net.params[pr][0].data, net.params[pr][1].data) for pr in params}\n",
    "    #print 'FC params', shape(fc_params)\n",
    "\n",
    "    for fc in params:\n",
    "        print '{} weights are {} dimensional and biases are {} dimensional'.format(fc, fc_params[fc][0].shape, fc_params[fc][1].shape)\n",
    "\n",
    "    # Load the fully convolutional network to transplant the parameters.\n",
    "    net_full_conv = caffe.Net(dstnet, orgmodel, caffe.TEST)\n",
    "    params_full_conv = net_full_conv.params.keys()[-1:]\n",
    "    \n",
    "    conv_params = {pr: (net_full_conv.params[pr][0].data, net_full_conv.params[pr][1].data) for pr in params_full_conv}\n",
    " \n",
    "    for conv in params_full_conv:\n",
    "        print '{} weights are {} dimensional and biases are {} dimensional'.format(conv, conv_params[conv][0].shape, conv_params[conv][1].shape)\n",
    "\n",
    "    for pr, pr_conv in zip(params, params_full_conv):\n",
    "        conv_params[pr_conv][0].flat = fc_params[pr][0].flat  # flat unrolls the arrays\n",
    "        conv_params[pr_conv][1][...] = fc_params[pr][1]\n",
    "\n",
    "    #print 'FC params', shape(conv_params)        \n",
    "    net_full_conv.save(dstmodel)\n",
    "    \n",
    "    \n"
   ]
  },
  {
   "cell_type": "code",
   "execution_count": null,
   "metadata": {
    "collapsed": true
   },
   "outputs": [],
   "source": []
  },
  {
   "cell_type": "code",
   "execution_count": null,
   "metadata": {
    "collapsed": true
   },
   "outputs": [],
   "source": []
  },
  {
   "cell_type": "code",
   "execution_count": null,
   "metadata": {
    "collapsed": true
   },
   "outputs": [],
   "source": []
  }
 ],
 "metadata": {
  "kernelspec": {
   "display_name": "Python 2",
   "language": "python",
   "name": "python2"
  },
  "language_info": {
   "codemirror_mode": {
    "name": "ipython",
    "version": 2
   },
   "file_extension": ".py",
   "mimetype": "text/x-python",
   "name": "python",
   "nbconvert_exporter": "python",
   "pygments_lexer": "ipython2",
   "version": "2.7.6"
  }
 },
 "nbformat": 4,
 "nbformat_minor": 1
}
