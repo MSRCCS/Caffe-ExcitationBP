{
 "cells": [
  {
   "cell_type": "markdown",
   "metadata": {},
   "source": [
    "# Neural Attention: Batch Processing on ImageNet\n"
   ]
  },
  {
   "cell_type": "code",
   "execution_count": 1,
   "metadata": {
    "collapsed": false
   },
   "outputs": [],
   "source": [
    "import numpy as np\n",
    "import matplotlib.pyplot as plt\n",
    "from skimage import transform, filters\n",
    "import sys, pylab, operator, csv\n",
    "import util\n",
    "import util1\n",
    "import os\n",
    "import urllib\n",
    "%matplotlib inline\n",
    "\n",
    "caffe_root = '../'  # this file is expected to be in {caffe_root}/examples\n",
    "sys.path.insert(0, caffe_root + 'python')\n",
    "\n",
    "import caffe"
   ]
  },
  {
   "cell_type": "markdown",
   "metadata": {},
   "source": [
    "We first load the model files and set the top layers' name."
   ]
  },
  {
   "cell_type": "code",
   "execution_count": null,
   "metadata": {
    "collapsed": false
   },
   "outputs": [],
   "source": [
    "if not os.path.isfile('../models/COCO/GoogleNetCOCO.caffemodel'):\n",
    "    url = 'http://www.cs.bu.edu/groups/ivc/data/ExcitationBP/COCO/GoogleNetCOCO.caffemodel'\n",
    "    urllib.urlretrieve(url, '../models/COCO/GoogleNetCOCO.caffemodel')\n",
    "caffe.set_mode_gpu()\n",
    "net = caffe.Net('../models/COCO/deploy.prototxt',\n",
    "                '../models/COCO/GoogleNetCOCO.caffemodel',\n",
    "                caffe.TRAIN)\n",
    "tags,tag2ID = util.loadTags('../models/COCO/catName.txt')\n",
    "param = dict()\n",
    "imgScale = 224\n",
    "topBlobName = 'loss3/classifier'\n",
    "topLayerName = 'loss3/classifier'\n",
    "secondTopLayerName = 'pool5/7x7_s1'\n",
    "secondTopBlobName = 'pool5/7x7_s1'"
   ]
  },
  {
   "cell_type": "markdown",
   "metadata": {},
   "source": [
    "We will find a directory and iterate through all images in that directory"
   ]
  },
  {
   "cell_type": "code",
   "execution_count": null,
   "metadata": {
    "collapsed": false
   },
   "outputs": [
    {
     "name": "stdout",
     "output_type": "stream",
     "text": [
      "Working on Directory  /data1/imagenet-data/raw-data/train/n02483362 --> /home/jinl/attention/train/n02483362\n"
     ]
    },
    {
     "name": "stderr",
     "output_type": "stream",
     "text": [
      "/usr/local/lib/python2.7/dist-packages/skimage/_shared/utils.py:174: skimage_deprecation: Mode 'nearest' has been renamed to 'edge'. Mode 'nearest' will be removed in a future release.\n",
      "  \"Mode 'nearest' has been renamed to 'edge'. Mode 'nearest' will be \"\n"
     ]
    },
    {
     "name": "stdout",
     "output_type": "stream",
     "text": [
      "Save figure to: /home/jinl/attention/train/n02483362/n02483362_7715.JPEG\n",
      "Save figure to: /home/jinl/attention/train/n02483362/n02483362_366.JPEG\n",
      "Save figure to: /home/jinl/attention/train/n02483362/n02483362_8294.JPEG\n",
      "Save figure to: /home/jinl/attention/train/n02483362/n02483362_7991.JPEG\n",
      "Save figure to: /home/jinl/attention/train/n02483362/n02483362_7.JPEG\n",
      "Save figure to: /home/jinl/attention/train/n02483362/n02483362_1622.JPEG\n",
      "Save figure to: /home/jinl/attention/train/n02483362/n02483362_8914.JPEG\n",
      "Save figure to: /home/jinl/attention/train/n02483362/n02483362_4536.JPEG\n",
      "Save figure to: /home/jinl/attention/train/n02483362/n02483362_7463.JPEG\n"
     ]
    }
   ],
   "source": [
    "imagedirs = '/data1/imagenet-data/raw-data/train'\n",
    "destdirs = '/home/jinl/attention/train'\n",
    "\n",
    "def createDirIfNotExist(dirn):\n",
    "    if not os.path.exists(dirn):\n",
    "        subpath = os.path.dirname(dirn)\n",
    "        createDirIfNotExist(subpath)\n",
    "        print \"Create Directory\", dirn\n",
    "        os.mkdir(dirn)\n",
    "    \n",
    "\n",
    "pylab.rcParams['figure.figsize'] = (6.0, 6.0)\n",
    "\n",
    "alldirectories = os.listdir(imagedirs)\n",
    "for subdir in alldirectories:\n",
    "    imagedir = imagedirs + '/' + subdir\n",
    "    destdir = destdirs + '/' + subdir\n",
    "    print \"Working on Directory \", imagedir, \"-->\", destdir\n",
    "    createDirIfNotExist(destdir)\n",
    "    allfiles = os.listdir(imagedir)\n",
    "    for image in allfiles:\n",
    "        imgName = imagedir + '/' + image\n",
    "        img = caffe.io.load_image(imgName)\n",
    "        #print imgName\n",
    "        minDim = min(img.shape[:2])\n",
    "        newSize = (int(img.shape[0]*imgScale/float(minDim)), int(img.shape[1]*imgScale/float(minDim)))\n",
    "        imgS = transform.resize(img, newSize)\n",
    "\n",
    "        net.blobs['data'].reshape(1,3,newSize[0],newSize[1])\n",
    "        transformer = caffe.io.Transformer({'data': net.blobs['data'].data.shape})\n",
    "        transformer.set_mean('data', np.array([103.939, 116.779, 123.68]))\n",
    "        transformer.set_transpose('data', (2,0,1))\n",
    "        transformer.set_channel_swap('data', (2,1,0))\n",
    "        transformer.set_raw_scale('data', 255.0)\n",
    "\n",
    "        net.blobs['data'].data[...] = transformer.preprocess('data', imgS)\n",
    "        out = net.forward(end = topLayerName)\n",
    "\n",
    "        scores = net.blobs[topBlobName].data[0].reshape((len(tags),-1)).max(1).flatten() # pre-softmax scores\n",
    "        tagScore = util.getTagScore(scores, tags, tag2ID)\n",
    "        tagScore.sort(key = operator.itemgetter(1), reverse = True)\n",
    "        topScores = tagScore[:5]\n",
    "        #print(topScores)\n",
    "\n",
    "        def getTag(pair):\n",
    "        #    print pair\n",
    "            return pair[0]\n",
    "        # specify the tags\n",
    "        tagName = map( getTag ,topScores)\n",
    "        #print(tagName)\n",
    "\n",
    "        # switch to the excitation backprop mode\n",
    "        caffe.set_mode_eb_gpu() \n",
    "        #specify the output layer name\n",
    "        outputLayerName = 'pool3/3x3_s2'#'inception_5b/output'\n",
    "        outputBlobName = 'pool3/3x3_s2'#'inception_5b/output'\n",
    "\n",
    "        attMaps = []\n",
    "\n",
    "        for i in range(len(tagName)):\n",
    "            tagID = tag2ID[tagName[i]]\n",
    "            net.blobs[topBlobName].diff[0][...] = 0\n",
    "            net.blobs[topBlobName].diff[0][tagID] = np.exp(net.blobs[topBlobName].data[0][tagID].copy())\n",
    "            net.blobs[topBlobName].diff[0][tagID] /= net.blobs[topBlobName].diff[0][tagID].sum()\n",
    "\n",
    "            # invert the top layer weights\n",
    "            net.params[topLayerName][0].data[...] *= -1\n",
    "            out = net.backward(start = topLayerName, end = secondTopLayerName)\n",
    "            buff = net.blobs[secondTopBlobName].diff.copy()\n",
    "\n",
    "            # invert back\n",
    "            net.params[topLayerName][0].data[...] *= -1 \n",
    "            out = net.backward(start = topLayerName, end = secondTopLayerName)\n",
    "\n",
    "            # compute the contrastive signal\n",
    "            net.blobs[secondTopBlobName].diff[...] -= buff\n",
    "\n",
    "            out = net.backward(start = secondTopLayerName, end = outputLayerName)\n",
    "            attMap = np.maximum(net.blobs[outputBlobName].diff[0].sum(0), 0)\n",
    "            attMaps.append(attMap)\n",
    "        saveImgName = destdir + '/' + image\n",
    "        # util.showAttMap( img, attMaps, tagName, overlap = True, blur = False)\n",
    "        util1.saveAttMap(img, attMaps, tagName, saveTo=saveImgName, overlap = True, blur = False)\n",
    "        # img.close()"
   ]
  },
  {
   "cell_type": "code",
   "execution_count": null,
   "metadata": {
    "collapsed": false
   },
   "outputs": [],
   "source": [
    "\n",
    "\n",
    "\n"
   ]
  }
 ],
 "metadata": {
  "kernelspec": {
   "display_name": "Python 2",
   "language": "python",
   "name": "python2"
  },
  "language_info": {
   "codemirror_mode": {
    "name": "ipython",
    "version": 2
   },
   "file_extension": ".py",
   "mimetype": "text/x-python",
   "name": "python",
   "nbconvert_exporter": "python",
   "pygments_lexer": "ipython2",
   "version": "2.7.6"
  }
 },
 "nbformat": 4,
 "nbformat_minor": 0
}
