{
 "cells": [
  {
   "cell_type": "code",
   "execution_count": 1,
   "metadata": {
    "collapsed": false
   },
   "outputs": [],
   "source": [
    "import numpy as np\n",
    "import matplotlib.pyplot as plt\n",
    "from skimage import transform, filters\n",
    "import sys, pylab, operator, csv\n",
    "import util\n",
    "import os\n",
    "import urllib\n",
    "%matplotlib inline\n",
    "\n",
    "caffe_root = '../'  # this file is expected to be in {caffe_root}/examples\n",
    "sys.path.insert(0, caffe_root + 'python')\n",
    "\n",
    "import caffe"
   ]
  },
  {
   "cell_type": "code",
   "execution_count": 2,
   "metadata": {
    "collapsed": true
   },
   "outputs": [],
   "source": [
    "caffe.set_mode_cpu()\n",
    "net = caffe.Net('../models/ccs_bp/ccs_bp.prototxt',\n",
    "                '../models/VGG16/VGG_ILSVRC_16_layers_bp.caffemodel',\n",
    "                caffe.TRAIN)\n",
    "tags,tag2ID = util.loadTags('../data/ilsvrc12/synset_words.txt')\n",
    "param = dict()\n",
    "imgScale = 224\n",
    "topBlobName = 'loss3/classifier'\n",
    "topLayerName = 'loss3/classifier'\n",
    "secondTopLayerName = 'pool5/7x7_s1'\n",
    "secondTopBlobName = 'pool5/7x7_s1'"
   ]
  }
 ],
 "metadata": {
  "kernelspec": {
   "display_name": "Python 2",
   "language": "python",
   "name": "python2"
  },
  "language_info": {
   "codemirror_mode": {
    "name": "ipython",
    "version": 2
   },
   "file_extension": ".py",
   "mimetype": "text/x-python",
   "name": "python",
   "nbconvert_exporter": "python",
   "pygments_lexer": "ipython2",
   "version": "2.7.6"
  }
 },
 "nbformat": 4,
 "nbformat_minor": 1
}
